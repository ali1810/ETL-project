{
 "cells": [
  {
   "cell_type": "markdown",
   "metadata": {},
   "source": [
    "## Extract and Preprocess the dataset "
   ]
  },
  {
   "cell_type": "code",
   "execution_count": null,
   "metadata": {
    "scrolled": true
   },
   "outputs": [],
   "source": [
    "\n",
    "import petl as etl\n",
    "\n",
    "table = (\n",
    "       etl\n",
    "        .fromcsv('C:/Users/ali/Desktop/Data Management/congress-terms3.csv')    \n",
    "        .convert('chamber', 'upper')  ###   For Consistency  \n",
    "         ## For confirmity \n",
    "        .convert('state', {'AL': 'Alabama', 'AK': 'Alaska','AZ':'Arizona',    \n",
    "                  'AR':'Arkansas','CA':'California','CO':'Colorado' ,'CT':'Connecticut',          # To give the complete name of field value \n",
    "                           'DE':'Delaware','FL':'Florida','GA':'Georgia','HI':'Hawaii',\n",
    "                           'ID':'Idaho','IL':'Illinois','IN':' Indiana','IA':'Iowa','KS':'Kansas',\n",
    "                           'KY':'Kentucky','LA':'Louisiana','ME':'Maine','MD':'Maryland',\n",
    "                  'MA':'Massachusetts','MI':'Michigan','MN': 'Minnesota','MS':'Mississippi',\n",
    "                           'MO': 'Missouri','MT':'Montana','NE':'Nebraska','NV':'Nevada','NH':'New Hampshire',\n",
    "                           'NJ':' New Jersey','NM':'New Mexico','NY':'New York','NC':'North Carolina',\n",
    "                           'ND':'North Dakota','OH':'Ohio','OK':'Oklahoma','OR':'Oregon',\n",
    "                           'PA':'Pennsylvania','RI':'Rhode Island','SC':'South Carolina','SD':'South Dakota',\n",
    "                           'TN':' Tennessee',   'TX':'Texas' ,  'UT':'Utah','VT':'Vermont',\n",
    "                           'VA':'Virginia','WA':' Washington','WV':'West Virginia','WI':'Wisconsin',\n",
    "                           'WY':'Wyoming'             \n",
    "                }\n",
    "                \n",
    "                )\n",
    "       .convert('incumbent',{'Yes':'1','No': '2'}) #  Data Enrichment \n",
    "       \n",
    "       .convert('birthday', 'MM/DD/YYYY')  # For consistency \n",
    "       \n",
    " )\n",
    "\n",
    "\n",
    "\n"
   ]
  },
  {
   "cell_type": "markdown",
   "metadata": {},
   "source": [
    "## Filtering the data in fact and dimension table "
   ]
  },
  {
   "cell_type": "code",
   "execution_count": null,
   "metadata": {},
   "outputs": [],
   "source": [
    "# creation of dimension table of party\n",
    "table1 = etl.cut(table,'Party_id','party')\n",
    "#creation of dimension table of state \n",
    "table2 = etl.cut(table, 'State_id','state') \n",
    "#Creation of dimension table of chamber\n",
    "table3 = etl.cut(table, 'Chamber_id','chamber')\n",
    "# Creation of dimension table of Member of congress\n",
    "table4 = etl.cut(table, 'Bioguide_id','bioguide','firstname','middlename','lastname','suffix')\n",
    "# creation of fact table\n",
    "table5 = etl.cutout(table, 'bioguide','congress','firstname','middlename','lastname','suffix','termstart','birthday','chamber','state','party') \n",
    "\n",
    "\n"
   ]
  },
  {
   "cell_type": "markdown",
   "metadata": {},
   "source": [
    "## Taking the distict values to make the primary key or id for the dimesnion table and fact table."
   ]
  },
  {
   "cell_type": "code",
   "execution_count": null,
   "metadata": {},
   "outputs": [],
   "source": [
    "table6 =etl.distinct(table1,'Party_id')     \n",
    "table7 =etl.distinct(table2,'State_id')\n",
    "table8 =etl.distinct(table4,'Bioguide_id')\n",
    "table9 =etl.distinct(table3,'Chamber_id')\n",
    "table10=etl.distinct(table5,'Bioguide_id')\n",
    "table11=etl.rename(table10,'Members_id ','Members_id')\n",
    "\n",
    "\n",
    " "
   ]
  },
  {
   "cell_type": "markdown",
   "metadata": {},
   "source": [
    "## Creating connection with database & Creating database "
   ]
  },
  {
   "cell_type": "code",
   "execution_count": null,
   "metadata": {},
   "outputs": [],
   "source": [
    "import pymysql\n",
    "\n",
    "### Creating connection with DB and database name  \n",
    "\n",
    "connection = pymysql.connect(host = \"127.0.0.1\", user = \"root\", password = \"Ali786mu\",database='etlprocess') \n",
    "cursor = connection.cursor()\n",
    "\n",
    "cursor.execute(\"CREATE DATABASE etlprocess7\")  ###creating DATABASE NAME\n",
    "\n",
    "cursor.execute(\"USE etlprocess7\")     ## Unsing database"
   ]
  },
  {
   "cell_type": "markdown",
   "metadata": {},
   "source": [
    "## creation of dimension and fact table in mysql database"
   ]
  },
  {
   "cell_type": "code",
   "execution_count": null,
   "metadata": {},
   "outputs": [],
   "source": [
    "### Creation of the dimension table 1\n",
    "\n",
    "cursor.execute(\"\"\"CREATE TABLE tbl_state        \n",
    "(State_id int NOT NULL PRIMARY KEY,\n",
    "state varchar(25) NULL)\"\"\")\n",
    "### Creation of the dimension table 2\n",
    "cursor.execute(\"\"\"CREATE TABLE tbl_chamber    \n",
    "(Chamber_id int NOT NULL PRIMARY KEY,\n",
    "chamber varchar(25) NULL)\"\"\")\n",
    "###  Creation of the dimesnion table 3\n",
    "cursor.execute(\"\"\"CREATE TABLE tbl_party      \n",
    "(Party_id int NOT NULL PRIMARY KEY,\n",
    "party varchar(25) NULL)\"\"\")\n",
    "### Creation of the dimesnion table 4\n",
    "cursor.execute(\"\"\"CREATE TABLE tbl_member    \n",
    "(Bioguide_id int NOT NULL PRIMARY KEY,\n",
    " bioguide varchar(25) NULL,\n",
    " firstname varchar(25)NULL,\n",
    " middlename varchar(25) NULL,\n",
    " lastname varchar(25) NULL,\n",
    " suffix varchar(25) NULL)\n",
    " \"\"\")\n",
    "### Creation of the Fact table \n",
    "cursor.execute(\"\"\"CREATE TABLE tbl_Fact      \n",
    "(Members_id int NOT NULL PRIMARY KEY,\n",
    "\n",
    "Bioguide_id int NOT NULL,\n",
    "State_id int NOT NULL,\n",
    "Chamber_id int NOT NULL,\n",
    "Party_id int NOT NULL,\n",
    "incumbent int,\n",
    "age int , \n",
    " \n",
    "FOREIGN KEY(Bioguide_id) REFERENCES tbl_member(Bioguide_id),\n",
    "FOREIGN KEY(State_id) REFERENCES tbl_state(State_id),\n",
    "FOREIGN KEY(Chamber_id) REFERENCES tbl_chamber(Chamber_id),\n",
    "FOREIGN KEY(Party_id) REFERENCES tbl_party(Party_id))\"\"\")\n"
   ]
  },
  {
   "cell_type": "code",
   "execution_count": null,
   "metadata": {},
   "outputs": [],
   "source": [
    "connection.cursor().execute('SET SQL_MODE=ANSI_QUOTES')\n"
   ]
  },
  {
   "cell_type": "markdown",
   "metadata": {},
   "source": [
    "##   To load the data into database "
   ]
  },
  {
   "cell_type": "code",
   "execution_count": null,
   "metadata": {},
   "outputs": [],
   "source": [
    "etl.todb(table6, cursor, 'tbl_party')  \n",
    "etl.todb(table7, cursor, 'tbl_state')  \n",
    "etl.todb(table8, cursor, 'tbl_member')\n",
    "etl.todb(table9, cursor, 'tbl_chamber')\n",
    "etl.todb(table11,cursor, 'tbl_fact')"
   ]
  },
  {
   "cell_type": "markdown",
   "metadata": {},
   "source": [
    "##  To get the data from database based on the requirement "
   ]
  },
  {
   "cell_type": "code",
   "execution_count": null,
   "metadata": {},
   "outputs": [],
   "source": [
    "import pandas as pd\n",
    "#conn = sqlite3.connect(\"flights.db\")\n",
    "df = pd.read_sql_query(\"SELECT age,incumbent,chamber_id,state_id,tbl_party.party from tbl_fact INNER JOIN tbl_party ON tbl_fact.party_id=tbl_party.party_id\", connection)"
   ]
  },
  {
   "cell_type": "markdown",
   "metadata": {},
   "source": [
    "##  Defining the x and y data field ::::"
   ]
  },
  {
   "cell_type": "code",
   "execution_count": null,
   "metadata": {},
   "outputs": [],
   "source": [
    "X = df.iloc[:, :-1].values\n",
    "y = df.iloc[:, 4].values"
   ]
  },
  {
   "cell_type": "markdown",
   "metadata": {},
   "source": [
    "## Devide the data in to 80:20 ratio for train and test dataset\n"
   ]
  },
  {
   "cell_type": "code",
   "execution_count": null,
   "metadata": {},
   "outputs": [],
   "source": [
    "from sklearn.model_selection import train_test_split\n",
    "X_train, X_test, y_train, y_test = train_test_split(X, y, test_size=0.20)"
   ]
  },
  {
   "cell_type": "markdown",
   "metadata": {},
   "source": [
    "## KNN Classifier algorithm "
   ]
  },
  {
   "cell_type": "code",
   "execution_count": null,
   "metadata": {},
   "outputs": [],
   "source": [
    "from sklearn.neighbors import KNeighborsClassifier\n",
    "classifier = KNeighborsClassifier(n_neighbors=10)\n",
    "classifier.fit(X_train, y_train)"
   ]
  },
  {
   "cell_type": "code",
   "execution_count": null,
   "metadata": {},
   "outputs": [],
   "source": [
    "##### Predicting y with x values \n",
    "from sklearn.metrics import classification_report, confusion_matrix,accuracy_score\n",
    "\n",
    "y_pred = classifier.predict(X_test)"
   ]
  },
  {
   "cell_type": "markdown",
   "metadata": {},
   "source": [
    "## for accuracy check \n",
    "\n",
    "   \n",
    "    "
   ]
  },
  {
   "cell_type": "code",
   "execution_count": null,
   "metadata": {},
   "outputs": [],
   "source": [
    "print (\"Accuracy of KNN is {}\".format(accuracy_score(y_test,y_pred)*100))"
   ]
  },
  {
   "cell_type": "code",
   "execution_count": null,
   "metadata": {},
   "outputs": [],
   "source": [
    "from sklearn.metrics import classification_report, confusion_matrix\n",
    "print(confusion_matrix(y_test, y_pred))\n",
    "print(classification_report(y_test, y_pred))"
   ]
  },
  {
   "cell_type": "markdown",
   "metadata": {},
   "source": [
    "## Evaluation of the error depend on the K values"
   ]
  },
  {
   "cell_type": "code",
   "execution_count": null,
   "metadata": {},
   "outputs": [],
   "source": [
    "import numpy as np\n",
    "\n",
    "error = []\n",
    "\n",
    "# Calculating error for K values between 1 and 40\n",
    "for i in range(1, 40):\n",
    "    knn = KNeighborsClassifier(n_neighbors=i)\n",
    "    knn.fit(X_train, y_train)\n",
    "    pred_i = knn.predict(X_test)\n",
    "    error.append(np.mean(pred_i != y_test))\n",
    "\n"
   ]
  },
  {
   "cell_type": "markdown",
   "metadata": {},
   "source": [
    "## Plotting the graph to compare the eeror with K values"
   ]
  },
  {
   "cell_type": "code",
   "execution_count": null,
   "metadata": {
    "scrolled": true
   },
   "outputs": [],
   "source": [
    "import matplotlib.pyplot as plt\n",
    "plt.figure(figsize=(10, 6))\n",
    "plt.plot(range(1, 40), error, color='red', linestyle='dashed', marker='o',\n",
    " markerfacecolor='blue', markersize=10)\n",
    "plt.title('Error Rate K Value')\n",
    "plt.xlabel('K Value')\n",
    "plt.ylabel('Mean Error')\n"
   ]
  },
  {
   "cell_type": "code",
   "execution_count": null,
   "metadata": {},
   "outputs": [],
   "source": [
    "plt.plot(range(1, 40), error, color='red', linestyle='dashed', marker='o',\n",
    "         markerfacecolor='blue', markersize=10)"
   ]
  },
  {
   "cell_type": "markdown",
   "metadata": {},
   "source": [
    "##   Decision tree entropy classification  \n"
   ]
  },
  {
   "cell_type": "code",
   "execution_count": null,
   "metadata": {
    "scrolled": true
   },
   "outputs": [],
   "source": [
    "from sklearn import tree\n",
    "from sklearn.tree import DecisionTreeClassifier \n",
    "clf_entropy = DecisionTreeClassifier(criterion = \"entropy\", random_state = 100)\n",
    "clf_entropy.fit(X_train, y_train)\n"
   ]
  },
  {
   "cell_type": "code",
   "execution_count": null,
   "metadata": {},
   "outputs": [],
   "source": [
    "y_pred_d = clf_entropy.predict(X_test)\n",
    "\n",
    "print(confusion_matrix(y_test, y_pred_d))\n",
    "print(classification_report(y_test, y_pred_d))\n",
    "\n"
   ]
  },
  {
   "cell_type": "code",
   "execution_count": null,
   "metadata": {},
   "outputs": [],
   "source": [
    "print(\"Accuracy of DTE is {}\".format(accuracy_score(y_test,y_pred_d)*100))"
   ]
  },
  {
   "cell_type": "code",
   "execution_count": null,
   "metadata": {},
   "outputs": [],
   "source": []
  }
 ],
 "metadata": {
  "kernelspec": {
   "display_name": "Python 3",
   "language": "python",
   "name": "python3"
  },
  "language_info": {
   "codemirror_mode": {
    "name": "ipython",
    "version": 3
   },
   "file_extension": ".py",
   "mimetype": "text/x-python",
   "name": "python",
   "nbconvert_exporter": "python",
   "pygments_lexer": "ipython3",
   "version": "3.6.6"
  }
 },
 "nbformat": 4,
 "nbformat_minor": 2
}
